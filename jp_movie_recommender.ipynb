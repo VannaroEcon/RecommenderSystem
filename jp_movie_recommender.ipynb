{
 "cells": [
  {
   "cell_type": "markdown",
   "id": "8141a80a",
   "metadata": {},
   "source": [
    "# Movie Recommender (Japanese)"
   ]
  },
  {
   "cell_type": "code",
   "execution_count": 1,
   "id": "324d8b45",
   "metadata": {},
   "outputs": [],
   "source": [
    "import nagisa # A library for splitting Japanese text necessary to make countvectorizer work.\n",
    "import nltk\n",
    "import numpy as np\n",
    "import pandas as pd\n",
    "\n",
    "\n",
    "from rake_nltk import Rake # Used to extract English keywords\n",
    "from sklearn.metrics.pairwise import cosine_similarity\n",
    "from sklearn.feature_extraction.text import CountVectorizer\n",
    "\n",
    "import warnings\n",
    "warnings.filterwarnings(\"ignore\")"
   ]
  },
  {
   "cell_type": "markdown",
   "id": "80e5123d",
   "metadata": {},
   "source": [
    "To extract keywords in Japanese, I implement the customized RAKE (Rapid Automatic Keyword Extraction) algorithm from this [github repository](https://github.com/carol975/RAKE_JPN)."
   ]
  },
  {
   "cell_type": "code",
   "execution_count": 2,
   "id": "e0f94575",
   "metadata": {},
   "outputs": [],
   "source": [
    "jpn_stop_words = [\"あそこ\",\"あっ\",\"あの\",\"あのかた\",\"あの人\",\"あり\",\"あります\",\"ある\",\"あれ\",\"い\",\"いう\",\"います\",\"いる\",\"う\",\"うち\",\"え\",\"お\",\"および\",\"おり\",\"おります\",\"か\",\"かつて\",\"から\",\"が\",\"き\",\"ここ\",\"こちら\",\"こと\",\"この\",\"これ\",\"これら\",\"さ\",\"さらに\",\"し\",\"しかし\",\"する\",\"ず\",\"せ\",\"せる\",\"そこ\",\"そして\",\"その\",\"その他\",\"その後\",\"それ\",\"それぞれ\",\"それで\",\"た\",\"ただし\",\"たち\",\"ため\",\"たり\",\"だ\",\"だっ\",\"だれ\",\"つ\",\"て\",\"で\",\"でき\",\"できる\",\"です\",\"では\",\"でも\",\"と\",\"という\",\"といった\",\"とき\",\"ところ\",\"として\",\"とともに\",\"とも\",\"と共に\",\"どこ\",\"どの\",\"な\",\"ない\",\"なお\",\"なかっ\",\"ながら\",\"なく\",\"なっ\",\"など\",\"なに\",\"なら\",\"なり\",\"なる\",\"なん\",\"に\",\"において\",\"における\",\"について\",\"にて\",\"によって\",\"により\",\"による\",\"に対して\",\"に対する\",\"に関する\",\"の\",\"ので\",\"のみ\",\"は\",\"ば\",\"へ\",\"ほか\",\"ほとんど\",\"ほど\",\"ます\",\"また\",\"または\",\"まで\",\"も\",\"もの\",\"ものの\",\"や\",\"よう\",\"より\",\"ら\",\"られ\",\"られる\",\"れ\",\"れる\",\"を\",\"ん\",\"何\",\"及び\",\"彼\",\"彼女\",\"我々\",\"特に\",\"私\",\"私達\",\"貴方\",\"貴方方\"]"
   ]
  },
  {
   "cell_type": "code",
   "execution_count": 3,
   "id": "e530d54b",
   "metadata": {},
   "outputs": [],
   "source": [
    "# Customized RAKE algorithm\n",
    "import MeCab\n",
    "import string\n",
    "import unicodedata\n",
    "\n",
    "\n",
    "class Rake_JP:\n",
    "    def __init__(self):\n",
    "        self.tagger = MeCab.Tagger(\"-Owakati\")\n",
    "    \n",
    "    def remove_punctuation(self,text):\n",
    "        text = unicodedata.normalize(\"NFKC\", text) \n",
    "        table = str.maketrans(\"\", \"\", string.punctuation  + \"「」、。・※\" + string.digits)\n",
    "        text = text.translate(table)\n",
    "\n",
    "        return text\n",
    "        \n",
    "    def get_word_score(self, word_list):\n",
    "        freq = {}\n",
    "        deg = {}\n",
    "\n",
    "        for word in word_list:\n",
    "            freq[word] = (freq.get(word) or 0) + 1\n",
    "            deg[word] = (deg.get(word) or 0) + len(word) - 1\n",
    "      \n",
    "        scores = {}\n",
    "        for word in word_list:\n",
    "            scores[word] = deg[word]/freq[word]\n",
    "        \n",
    "        scores = {k:v for k, v in  sorted(scores.items(), key=lambda item: item[1], reverse=True)}\n",
    "      \n",
    "        return scores\n",
    "    \n",
    "    def get_keywords(self, text, limit=0):\n",
    "        parsed_text = self.tagger.parse(text)\n",
    "        raw_word_list = self.remove_punctuation(parsed_text).split()\n",
    "        word_list = [word for word in raw_word_list if word not in jpn_stop_words ]\n",
    "        \n",
    "        score_list = self.get_word_score(word_list)\n",
    "        \n",
    "        if limit == 0:\n",
    "            return list(score_list.keys())\n",
    "        else:\n",
    "            return list(score_list.keys())[:limit]"
   ]
  },
  {
   "cell_type": "markdown",
   "id": "bf916d21",
   "metadata": {},
   "source": [
    "## Load the dataset"
   ]
  },
  {
   "cell_type": "markdown",
   "id": "57bd3ffd",
   "metadata": {},
   "source": [
    "Top 250 IMDB movie dataset is obtained from [data.world](https://data.world/studentoflife/imdb-top-250-lists-and-5000-or-so-data-records) website.\n",
    "The dataset is originally in English, but to build a Japanese recommender system I manually translated those data (such as movie title, genre, director, actors, and plot) into Japanese using Google Sheet and GOOGLETRANSLATE formula. It is also important to note that some movies were removed since their data could not be translated into Japanese."
   ]
  },
  {
   "cell_type": "code",
   "execution_count": 4,
   "id": "bf6e28f8",
   "metadata": {},
   "outputs": [
    {
     "data": {
      "text/html": [
       "<div>\n",
       "<style scoped>\n",
       "    .dataframe tbody tr th:only-of-type {\n",
       "        vertical-align: middle;\n",
       "    }\n",
       "\n",
       "    .dataframe tbody tr th {\n",
       "        vertical-align: top;\n",
       "    }\n",
       "\n",
       "    .dataframe thead th {\n",
       "        text-align: right;\n",
       "    }\n",
       "</style>\n",
       "<table border=\"1\" class=\"dataframe\">\n",
       "  <thead>\n",
       "    <tr style=\"text-align: right;\">\n",
       "      <th></th>\n",
       "      <th>Unnamed: 0</th>\n",
       "      <th>Title</th>\n",
       "      <th>Title_JP</th>\n",
       "      <th>Genre</th>\n",
       "      <th>Genre_JP</th>\n",
       "      <th>Director</th>\n",
       "      <th>Director_JP</th>\n",
       "      <th>Actors</th>\n",
       "      <th>Actors_JP</th>\n",
       "      <th>Plot</th>\n",
       "      <th>Plot_JP</th>\n",
       "    </tr>\n",
       "  </thead>\n",
       "  <tbody>\n",
       "    <tr>\n",
       "      <th>0</th>\n",
       "      <td>1</td>\n",
       "      <td>The Shawshank Redemption</td>\n",
       "      <td>ショーシャンクの空に</td>\n",
       "      <td>Crime, Drama</td>\n",
       "      <td>犯罪ドラマ</td>\n",
       "      <td>Frank Darabont</td>\n",
       "      <td>フランク・ダラボント</td>\n",
       "      <td>Tim Robbins, Morgan Freeman, Bob Gunton, Willi...</td>\n",
       "      <td>ティム・ロビンズ、モーガン・フリーマン、ボブ・ガントン、ウィリアム・サドラー</td>\n",
       "      <td>Two imprisoned men bond over a number of years...</td>\n",
       "      <td>2人の投獄された男性が何年にもわたって絆を結び、共通の良識の行為を通じて慰めと最終的なred...</td>\n",
       "    </tr>\n",
       "    <tr>\n",
       "      <th>1</th>\n",
       "      <td>2</td>\n",
       "      <td>The Godfather</td>\n",
       "      <td>ゴッドファーザー</td>\n",
       "      <td>Crime, Drama</td>\n",
       "      <td>犯罪ドラマ</td>\n",
       "      <td>Francis Ford Coppola</td>\n",
       "      <td>フランシス・フォード・コッポラ</td>\n",
       "      <td>Marlon Brando, Al Pacino, James Caan, Richard ...</td>\n",
       "      <td>マーロン・ブランド、アル・パチーノ、ジェームズ・カーン、リチャード・S・カステラーノ</td>\n",
       "      <td>The aging patriarch of an organized crime dyna...</td>\n",
       "      <td>組織化された犯罪王朝の老化した家長は、彼の秘密帝国の消極的な息子に支配権を譲渡します。</td>\n",
       "    </tr>\n",
       "  </tbody>\n",
       "</table>\n",
       "</div>"
      ],
      "text/plain": [
       "   Unnamed: 0                     Title    Title_JP         Genre Genre_JP  \\\n",
       "0           1  The Shawshank Redemption  ショーシャンクの空に  Crime, Drama    犯罪ドラマ   \n",
       "1           2             The Godfather    ゴッドファーザー  Crime, Drama    犯罪ドラマ   \n",
       "\n",
       "               Director      Director_JP  \\\n",
       "0        Frank Darabont       フランク・ダラボント   \n",
       "1  Francis Ford Coppola  フランシス・フォード・コッポラ   \n",
       "\n",
       "                                              Actors  \\\n",
       "0  Tim Robbins, Morgan Freeman, Bob Gunton, Willi...   \n",
       "1  Marlon Brando, Al Pacino, James Caan, Richard ...   \n",
       "\n",
       "                                    Actors_JP  \\\n",
       "0      ティム・ロビンズ、モーガン・フリーマン、ボブ・ガントン、ウィリアム・サドラー   \n",
       "1  マーロン・ブランド、アル・パチーノ、ジェームズ・カーン、リチャード・S・カステラーノ   \n",
       "\n",
       "                                                Plot  \\\n",
       "0  Two imprisoned men bond over a number of years...   \n",
       "1  The aging patriarch of an organized crime dyna...   \n",
       "\n",
       "                                             Plot_JP  \n",
       "0  2人の投獄された男性が何年にもわたって絆を結び、共通の良識の行為を通じて慰めと最終的なred...  \n",
       "1        組織化された犯罪王朝の老化した家長は、彼の秘密帝国の消極的な息子に支配権を譲渡します。  "
      ]
     },
     "execution_count": 4,
     "metadata": {},
     "output_type": "execute_result"
    }
   ],
   "source": [
    "# Load the data\n",
    "df = pd.read_csv('data/IMDB_Top250movies2_OMDB_Detailed.csv', encoding=\"utf-8\")\n",
    "df.head(2)"
   ]
  },
  {
   "cell_type": "code",
   "execution_count": 5,
   "id": "fa4f129c",
   "metadata": {},
   "outputs": [
    {
     "data": {
      "text/html": [
       "<div>\n",
       "<style scoped>\n",
       "    .dataframe tbody tr th:only-of-type {\n",
       "        vertical-align: middle;\n",
       "    }\n",
       "\n",
       "    .dataframe tbody tr th {\n",
       "        vertical-align: top;\n",
       "    }\n",
       "\n",
       "    .dataframe thead th {\n",
       "        text-align: right;\n",
       "    }\n",
       "</style>\n",
       "<table border=\"1\" class=\"dataframe\">\n",
       "  <thead>\n",
       "    <tr style=\"text-align: right;\">\n",
       "      <th></th>\n",
       "      <th>Title</th>\n",
       "      <th>Title_JP</th>\n",
       "      <th>Genre</th>\n",
       "      <th>Genre_JP</th>\n",
       "      <th>Director</th>\n",
       "      <th>Director_JP</th>\n",
       "      <th>Actors</th>\n",
       "      <th>Actors_JP</th>\n",
       "      <th>Plot</th>\n",
       "      <th>Plot_JP</th>\n",
       "    </tr>\n",
       "  </thead>\n",
       "  <tbody>\n",
       "    <tr>\n",
       "      <th>0</th>\n",
       "      <td>The Shawshank Redemption</td>\n",
       "      <td>ショーシャンクの空に</td>\n",
       "      <td>Crime, Drama</td>\n",
       "      <td>犯罪ドラマ</td>\n",
       "      <td>Frank Darabont</td>\n",
       "      <td>フランク・ダラボント</td>\n",
       "      <td>Tim Robbins, Morgan Freeman, Bob Gunton, Willi...</td>\n",
       "      <td>ティム・ロビンズ、モーガン・フリーマン、ボブ・ガントン、ウィリアム・サドラー</td>\n",
       "      <td>Two imprisoned men bond over a number of years...</td>\n",
       "      <td>2人の投獄された男性が何年にもわたって絆を結び、共通の良識の行為を通じて慰めと最終的なred...</td>\n",
       "    </tr>\n",
       "    <tr>\n",
       "      <th>1</th>\n",
       "      <td>The Godfather</td>\n",
       "      <td>ゴッドファーザー</td>\n",
       "      <td>Crime, Drama</td>\n",
       "      <td>犯罪ドラマ</td>\n",
       "      <td>Francis Ford Coppola</td>\n",
       "      <td>フランシス・フォード・コッポラ</td>\n",
       "      <td>Marlon Brando, Al Pacino, James Caan, Richard ...</td>\n",
       "      <td>マーロン・ブランド、アル・パチーノ、ジェームズ・カーン、リチャード・S・カステラーノ</td>\n",
       "      <td>The aging patriarch of an organized crime dyna...</td>\n",
       "      <td>組織化された犯罪王朝の老化した家長は、彼の秘密帝国の消極的な息子に支配権を譲渡します。</td>\n",
       "    </tr>\n",
       "  </tbody>\n",
       "</table>\n",
       "</div>"
      ],
      "text/plain": [
       "                      Title    Title_JP         Genre Genre_JP  \\\n",
       "0  The Shawshank Redemption  ショーシャンクの空に  Crime, Drama    犯罪ドラマ   \n",
       "1             The Godfather    ゴッドファーザー  Crime, Drama    犯罪ドラマ   \n",
       "\n",
       "               Director      Director_JP  \\\n",
       "0        Frank Darabont       フランク・ダラボント   \n",
       "1  Francis Ford Coppola  フランシス・フォード・コッポラ   \n",
       "\n",
       "                                              Actors  \\\n",
       "0  Tim Robbins, Morgan Freeman, Bob Gunton, Willi...   \n",
       "1  Marlon Brando, Al Pacino, James Caan, Richard ...   \n",
       "\n",
       "                                    Actors_JP  \\\n",
       "0      ティム・ロビンズ、モーガン・フリーマン、ボブ・ガントン、ウィリアム・サドラー   \n",
       "1  マーロン・ブランド、アル・パチーノ、ジェームズ・カーン、リチャード・S・カステラーノ   \n",
       "\n",
       "                                                Plot  \\\n",
       "0  Two imprisoned men bond over a number of years...   \n",
       "1  The aging patriarch of an organized crime dyna...   \n",
       "\n",
       "                                             Plot_JP  \n",
       "0  2人の投獄された男性が何年にもわたって絆を結び、共通の良識の行為を通じて慰めと最終的なred...  \n",
       "1        組織化された犯罪王朝の老化した家長は、彼の秘密帝国の消極的な息子に支配権を譲渡します。  "
      ]
     },
     "execution_count": 5,
     "metadata": {},
     "output_type": "execute_result"
    }
   ],
   "source": [
    "# Keep only necessary columns (Title, Genre, Director, Actors, Plot)\n",
    "df_cv = df[['Title', 'Title_JP', 'Genre', 'Genre_JP', 'Director', 'Director_JP', 'Actors', 'Actors_JP', 'Plot', 'Plot_JP']]\n",
    "df_cv.head(2)"
   ]
  },
  {
   "cell_type": "code",
   "execution_count": 6,
   "id": "e135e9e1",
   "metadata": {},
   "outputs": [
    {
     "name": "stdout",
     "output_type": "stream",
     "text": [
      "<class 'pandas.core.frame.DataFrame'>\n",
      "RangeIndex: 185 entries, 0 to 184\n",
      "Data columns (total 10 columns):\n",
      " #   Column       Non-Null Count  Dtype \n",
      "---  ------       --------------  ----- \n",
      " 0   Title        185 non-null    object\n",
      " 1   Title_JP     185 non-null    object\n",
      " 2   Genre        185 non-null    object\n",
      " 3   Genre_JP     185 non-null    object\n",
      " 4   Director     185 non-null    object\n",
      " 5   Director_JP  185 non-null    object\n",
      " 6   Actors       185 non-null    object\n",
      " 7   Actors_JP    185 non-null    object\n",
      " 8   Plot         185 non-null    object\n",
      " 9   Plot_JP      185 non-null    object\n",
      "dtypes: object(10)\n",
      "memory usage: 14.6+ KB\n"
     ]
    },
    {
     "data": {
      "text/plain": [
       "Title          0\n",
       "Title_JP       0\n",
       "Genre          0\n",
       "Genre_JP       0\n",
       "Director       0\n",
       "Director_JP    0\n",
       "Actors         0\n",
       "Actors_JP      0\n",
       "Plot           0\n",
       "Plot_JP        0\n",
       "dtype: int64"
      ]
     },
     "execution_count": 6,
     "metadata": {},
     "output_type": "execute_result"
    }
   ],
   "source": [
    "# Check entry types and missing values\n",
    "df_cv.info()\n",
    "df_cv.isnull().sum()"
   ]
  },
  {
   "cell_type": "markdown",
   "id": "4549c97f",
   "metadata": {},
   "source": [
    "## Japanese Recommender"
   ]
  },
  {
   "cell_type": "markdown",
   "id": "c2a4f0e9",
   "metadata": {},
   "source": [
    "### Data pre-processing"
   ]
  },
  {
   "cell_type": "code",
   "execution_count": 7,
   "id": "ca020864",
   "metadata": {},
   "outputs": [],
   "source": [
    "# Remove remaining English characters in the string\n",
    "df_cv['Title_JP'] = df_cv['Title_JP'].str.replace(r'[a-zA-Z]', '')\n",
    "df_cv['Genre_JP'] = df_cv['Genre_JP'].str.replace(r'[a-zA-Z]', '')\n",
    "df_cv['Director_JP'] = df_cv['Director_JP'].str.replace(r'[a-zA-Z]', '')\n",
    "df_cv['Actors_JP'] = df_cv['Actors_JP'].str.replace(r'[a-zA-Z]', '')\n",
    "df_cv['Plot_JP'] = df_cv['Plot_JP'].str.replace(r'[a-zA-Z]', '')"
   ]
  },
  {
   "cell_type": "code",
   "execution_count": 8,
   "id": "792f6fc6",
   "metadata": {},
   "outputs": [],
   "source": [
    "# Generate a new columns to store JP keywords obtained from customized RAKE algorithm\n",
    "df_cv['Key_words_JP'] = ''\n",
    "r = Rake_JP()\n",
    "\n",
    "for index, row in df_cv.iterrows():\n",
    "    # Get dictionary with keywords and scores\n",
    "    key_words_dict_scores_JP = r.get_keywords(row['Plot_JP'])    \n",
    "    row['Key_words_JP'] = list(key_words_dict_scores_JP)   "
   ]
  },
  {
   "cell_type": "code",
   "execution_count": 9,
   "id": "b43577d2",
   "metadata": {},
   "outputs": [],
   "source": [
    "# Extract genre, first three main actors, and directors into a list\n",
    "df_cv['Genre_JP'] = df_cv['Genre_JP'].map(lambda x: x.split('、'))\n",
    "df_cv['Actors_JP'] = df_cv['Actors_JP'].map(lambda x: x.split('、')[:3])\n",
    "df_cv['Director_JP'] = df_cv['Director_JP'].map(lambda x: x.split('、'))\n",
    "\n",
    "# Merge first & last names into one word to create unique names \n",
    "for index, row in df_cv.iterrows():\n",
    "    row['Genre_JP'] = [x.lower().replace(' ','').replace('・','') for x in row['Genre_JP']]\n",
    "    row['Actors_JP'] = [x.lower().replace(' ','').replace('・','') for x in row['Actors_JP']]\n",
    "    row['Director_JP'] = [x.lower().replace(' ','').replace('・','') for x in row['Director_JP']]"
   ]
  },
  {
   "cell_type": "markdown",
   "id": "da51fc82",
   "metadata": {},
   "source": [
    "### Generate word representation for each movie"
   ]
  },
  {
   "cell_type": "code",
   "execution_count": 10,
   "id": "562eae60",
   "metadata": {},
   "outputs": [
    {
     "data": {
      "text/html": [
       "<div>\n",
       "<style scoped>\n",
       "    .dataframe tbody tr th:only-of-type {\n",
       "        vertical-align: middle;\n",
       "    }\n",
       "\n",
       "    .dataframe tbody tr th {\n",
       "        vertical-align: top;\n",
       "    }\n",
       "\n",
       "    .dataframe thead th {\n",
       "        text-align: right;\n",
       "    }\n",
       "</style>\n",
       "<table border=\"1\" class=\"dataframe\">\n",
       "  <thead>\n",
       "    <tr style=\"text-align: right;\">\n",
       "      <th></th>\n",
       "      <th>Title</th>\n",
       "      <th>Title_JP</th>\n",
       "      <th>all_words_JP</th>\n",
       "    </tr>\n",
       "  </thead>\n",
       "  <tbody>\n",
       "    <tr>\n",
       "      <th>0</th>\n",
       "      <td>The Shawshank Redemption</td>\n",
       "      <td>ショーシャンクの空に</td>\n",
       "      <td>犯罪ドラマフランクダラボントティムロビンズモーガンフリーマンボブガントンわたっ見つけ投獄男性...</td>\n",
       "    </tr>\n",
       "    <tr>\n",
       "      <th>1</th>\n",
       "      <td>The Godfather</td>\n",
       "      <td>ゴッドファーザー</td>\n",
       "      <td>犯罪ドラマフランシスフォードコッポラマーロンブランドアルパチーノジェームズカーン組織犯罪王朝...</td>\n",
       "    </tr>\n",
       "  </tbody>\n",
       "</table>\n",
       "</div>"
      ],
      "text/plain": [
       "                      Title    Title_JP  \\\n",
       "0  The Shawshank Redemption  ショーシャンクの空に   \n",
       "1             The Godfather    ゴッドファーザー   \n",
       "\n",
       "                                        all_words_JP  \n",
       "0  犯罪ドラマフランクダラボントティムロビンズモーガンフリーマンボブガントンわたっ見つけ投獄男性...  \n",
       "1  犯罪ドラマフランシスフォードコッポラマーロンブランドアルパチーノジェームズカーン組織犯罪王朝...  "
      ]
     },
     "execution_count": 10,
     "metadata": {},
     "output_type": "execute_result"
    }
   ],
   "source": [
    "# Combine 'Genre_JA', 'Director_JA', 'Actors_JA', 'Key_words_JA' into a column\n",
    "df_cv['all_words_JP'] = ''\n",
    "columns = ['Genre_JP', 'Director_JP', 'Actors_JP', 'Key_words_JP']\n",
    "for index, row in df_cv.iterrows():\n",
    "    words = ''\n",
    "    for col in columns:\n",
    "        words += ''.join(row[col]) + ''\n",
    "    row['all_words_JP'] = words\n",
    "    \n",
    "\n",
    "# Create a new df from df_cv with only 3 columns 'Title', 'Title_JP', 'all_words_JP'\n",
    "df_jp = df_cv[['Title', 'Title_JP', 'all_words_JP']]\n",
    "df_jp.head(2)"
   ]
  },
  {
   "cell_type": "markdown",
   "id": "0231f1e7",
   "metadata": {},
   "source": [
    "### Generate vector representation"
   ]
  },
  {
   "cell_type": "code",
   "execution_count": 12,
   "id": "4250e1d9",
   "metadata": {},
   "outputs": [
    {
     "data": {
      "text/plain": [
       "<185x2578 sparse matrix of type '<class 'numpy.int64'>'\n",
       "\twith 4232 stored elements in Compressed Sparse Row format>"
      ]
     },
     "execution_count": 12,
     "metadata": {},
     "output_type": "execute_result"
    }
   ],
   "source": [
    "def tokenize_jp(text):\n",
    "    doc = nagisa.filter(text, filter_postags=['助詞', '補助記号', '助動詞'])\n",
    "    return doc.words\n",
    "\n",
    "\n",
    "vectorizer_JP = CountVectorizer(tokenizer=tokenize_jp)\n",
    "matrix_JP = vectorizer_JP.fit_transform(df_jp['all_words_JP'])\n",
    "matrix_JP"
   ]
  },
  {
   "cell_type": "code",
   "execution_count": 13,
   "id": "12c9291e",
   "metadata": {},
   "outputs": [
    {
     "data": {
      "text/html": [
       "<div>\n",
       "<style scoped>\n",
       "    .dataframe tbody tr th:only-of-type {\n",
       "        vertical-align: middle;\n",
       "    }\n",
       "\n",
       "    .dataframe tbody tr th {\n",
       "        vertical-align: top;\n",
       "    }\n",
       "\n",
       "    .dataframe thead th {\n",
       "        text-align: right;\n",
       "    }\n",
       "</style>\n",
       "<table border=\"1\" class=\"dataframe\">\n",
       "  <thead>\n",
       "    <tr style=\"text-align: right;\">\n",
       "      <th></th>\n",
       "      <th>​</th>\n",
       "      <th>いか</th>\n",
       "      <th>いく</th>\n",
       "      <th>うっかり</th>\n",
       "      <th>うつ病</th>\n",
       "      <th>うまく</th>\n",
       "      <th>おそらく</th>\n",
       "      <th>おもちゃ</th>\n",
       "      <th>かかし</th>\n",
       "      <th>かけ</th>\n",
       "      <th>...</th>\n",
       "      <th>高橋</th>\n",
       "      <th>魅惑</th>\n",
       "      <th>魔法</th>\n",
       "      <th>魔術</th>\n",
       "      <th>麻痺</th>\n",
       "      <th>麻薬</th>\n",
       "      <th>黒</th>\n",
       "      <th>黒人</th>\n",
       "      <th>黒澤</th>\n",
       "      <th>黙示</th>\n",
       "    </tr>\n",
       "  </thead>\n",
       "  <tbody>\n",
       "    <tr>\n",
       "      <th>0</th>\n",
       "      <td>0</td>\n",
       "      <td>0</td>\n",
       "      <td>0</td>\n",
       "      <td>0</td>\n",
       "      <td>0</td>\n",
       "      <td>0</td>\n",
       "      <td>0</td>\n",
       "      <td>0</td>\n",
       "      <td>0</td>\n",
       "      <td>0</td>\n",
       "      <td>...</td>\n",
       "      <td>0</td>\n",
       "      <td>0</td>\n",
       "      <td>0</td>\n",
       "      <td>0</td>\n",
       "      <td>0</td>\n",
       "      <td>0</td>\n",
       "      <td>0</td>\n",
       "      <td>0</td>\n",
       "      <td>0</td>\n",
       "      <td>0</td>\n",
       "    </tr>\n",
       "    <tr>\n",
       "      <th>1</th>\n",
       "      <td>0</td>\n",
       "      <td>0</td>\n",
       "      <td>0</td>\n",
       "      <td>0</td>\n",
       "      <td>0</td>\n",
       "      <td>0</td>\n",
       "      <td>0</td>\n",
       "      <td>0</td>\n",
       "      <td>0</td>\n",
       "      <td>0</td>\n",
       "      <td>...</td>\n",
       "      <td>0</td>\n",
       "      <td>0</td>\n",
       "      <td>0</td>\n",
       "      <td>0</td>\n",
       "      <td>0</td>\n",
       "      <td>0</td>\n",
       "      <td>0</td>\n",
       "      <td>0</td>\n",
       "      <td>0</td>\n",
       "      <td>0</td>\n",
       "    </tr>\n",
       "    <tr>\n",
       "      <th>2</th>\n",
       "      <td>0</td>\n",
       "      <td>0</td>\n",
       "      <td>0</td>\n",
       "      <td>0</td>\n",
       "      <td>0</td>\n",
       "      <td>0</td>\n",
       "      <td>0</td>\n",
       "      <td>0</td>\n",
       "      <td>0</td>\n",
       "      <td>0</td>\n",
       "      <td>...</td>\n",
       "      <td>0</td>\n",
       "      <td>0</td>\n",
       "      <td>0</td>\n",
       "      <td>0</td>\n",
       "      <td>0</td>\n",
       "      <td>0</td>\n",
       "      <td>0</td>\n",
       "      <td>0</td>\n",
       "      <td>0</td>\n",
       "      <td>0</td>\n",
       "    </tr>\n",
       "    <tr>\n",
       "      <th>3</th>\n",
       "      <td>0</td>\n",
       "      <td>0</td>\n",
       "      <td>0</td>\n",
       "      <td>0</td>\n",
       "      <td>0</td>\n",
       "      <td>0</td>\n",
       "      <td>0</td>\n",
       "      <td>0</td>\n",
       "      <td>0</td>\n",
       "      <td>0</td>\n",
       "      <td>...</td>\n",
       "      <td>0</td>\n",
       "      <td>0</td>\n",
       "      <td>0</td>\n",
       "      <td>0</td>\n",
       "      <td>0</td>\n",
       "      <td>0</td>\n",
       "      <td>0</td>\n",
       "      <td>0</td>\n",
       "      <td>0</td>\n",
       "      <td>0</td>\n",
       "    </tr>\n",
       "    <tr>\n",
       "      <th>4</th>\n",
       "      <td>0</td>\n",
       "      <td>0</td>\n",
       "      <td>0</td>\n",
       "      <td>0</td>\n",
       "      <td>0</td>\n",
       "      <td>0</td>\n",
       "      <td>0</td>\n",
       "      <td>0</td>\n",
       "      <td>0</td>\n",
       "      <td>0</td>\n",
       "      <td>...</td>\n",
       "      <td>0</td>\n",
       "      <td>0</td>\n",
       "      <td>0</td>\n",
       "      <td>0</td>\n",
       "      <td>0</td>\n",
       "      <td>0</td>\n",
       "      <td>0</td>\n",
       "      <td>0</td>\n",
       "      <td>0</td>\n",
       "      <td>0</td>\n",
       "    </tr>\n",
       "  </tbody>\n",
       "</table>\n",
       "<p>5 rows × 2578 columns</p>\n",
       "</div>"
      ],
      "text/plain": [
       "   ​  いか  いく  うっかり  うつ病  うまく  おそらく  おもちゃ  かかし  かけ  ...  高橋  魅惑  魔法  魔術  麻痺  \\\n",
       "0  0   0   0     0    0    0     0     0    0   0  ...   0   0   0   0   0   \n",
       "1  0   0   0     0    0    0     0     0    0   0  ...   0   0   0   0   0   \n",
       "2  0   0   0     0    0    0     0     0    0   0  ...   0   0   0   0   0   \n",
       "3  0   0   0     0    0    0     0     0    0   0  ...   0   0   0   0   0   \n",
       "4  0   0   0     0    0    0     0     0    0   0  ...   0   0   0   0   0   \n",
       "\n",
       "   麻薬  黒  黒人  黒澤  黙示  \n",
       "0   0  0   0   0   0  \n",
       "1   0  0   0   0   0  \n",
       "2   0  0   0   0   0  \n",
       "3   0  0   0   0   0  \n",
       "4   0  0   0   0   0  \n",
       "\n",
       "[5 rows x 2578 columns]"
      ]
     },
     "execution_count": 13,
     "metadata": {},
     "output_type": "execute_result"
    }
   ],
   "source": [
    "df_word_JP = pd.DataFrame(matrix_JP.toarray(),\n",
    "                        columns=vectorizer_JP.get_feature_names())\n",
    "df_word_JP.head(5)"
   ]
  },
  {
   "cell_type": "code",
   "execution_count": 14,
   "id": "4b1f6d16",
   "metadata": {},
   "outputs": [
    {
     "name": "stdout",
     "output_type": "stream",
     "text": [
      "[[1.         0.13650473 0.09100315 ... 0.0952381  0.         0.05006262]\n",
      " [0.13650473 1.         0.26086957 ... 0.09100315 0.         0.        ]\n",
      " [0.09100315 0.26086957 1.         ... 0.09100315 0.         0.        ]\n",
      " ...\n",
      " [0.0952381  0.09100315 0.09100315 ... 1.         0.         0.05006262]\n",
      " [0.         0.         0.         ... 0.         1.         0.        ]\n",
      " [0.05006262 0.         0.         ... 0.05006262 0.         1.        ]]\n"
     ]
    }
   ],
   "source": [
    "# Calculate cosine similarity, cosine similarity: similarity = cos(angle) = range from 0 (different) to 1 (similar)\n",
    "cosine_sim_JP = cosine_similarity(matrix_JP, matrix_JP)\n",
    "print(cosine_sim_JP)"
   ]
  },
  {
   "cell_type": "code",
   "execution_count": 15,
   "id": "9e7d8a12",
   "metadata": {},
   "outputs": [
    {
     "data": {
      "text/plain": [
       "0    The Shawshank Redemption\n",
       "1               The Godfather\n",
       "2      The Godfather: Part II\n",
       "3             The Dark Knight\n",
       "4                12 Angry Men\n",
       "Name: Title, dtype: object"
      ]
     },
     "execution_count": 15,
     "metadata": {},
     "output_type": "execute_result"
    }
   ],
   "source": [
    "# Create a Series for movie titles which can be used as indices\n",
    "# English title is used as the base to compare the recommended movies using English text and those movies using Japanese text\n",
    "indices = pd.Series(df_jp['Title'])\n",
    "indices[:5]"
   ]
  },
  {
   "cell_type": "markdown",
   "id": "36dede89",
   "metadata": {},
   "source": [
    "### Implement the recommender system"
   ]
  },
  {
   "cell_type": "code",
   "execution_count": 17,
   "id": "003999fd",
   "metadata": {},
   "outputs": [],
   "source": [
    "# The function takes in a movie title as an input and returns the top 10 recommended (similar) movies based on content-based filtering\n",
    "\n",
    "def recommend_JP(title, cosine_sim = cosine_sim_JP):\n",
    "    recommended_movies = []\n",
    "    idx = indices[indices == title].index[0]   # to get the index of the movie title matching the input movie\n",
    "    score_series = pd.Series(cosine_sim_JP[idx]).sort_values(ascending = False)   # similarity scores in descending order\n",
    "    top_10_indices = list(score_series.iloc[1:11].index)   # to get the indices of top 10 most similar movies\n",
    " \n",
    "    \n",
    "    for i in top_10_indices:   # to append the titles of top 10 similar movies to the recommended_movies list\n",
    "        recommended_movies.append(list(df_jp['Title'])[i])\n",
    "        \n",
    "    return recommended_movies"
   ]
  },
  {
   "cell_type": "markdown",
   "id": "bff9a1eb",
   "metadata": {},
   "source": [
    "## English Recommender"
   ]
  },
  {
   "cell_type": "markdown",
   "id": "e369d8a4",
   "metadata": {},
   "source": [
    "### Data pre-processing"
   ]
  },
  {
   "cell_type": "code",
   "execution_count": 18,
   "id": "6e738303",
   "metadata": {},
   "outputs": [],
   "source": [
    "# Remove punctuations from Plot\n",
    "df_cv['Plot'] = df_cv['Plot'].str.replace('[^\\w\\s]','')"
   ]
  },
  {
   "cell_type": "code",
   "execution_count": 19,
   "id": "cfbc4ec5",
   "metadata": {},
   "outputs": [],
   "source": [
    "# Generate a new columns to store EN keywords obtained from RAKE\n",
    "df_cv['Key_words'] = ''\n",
    "r = Rake()\n",
    "\n",
    "for index, row in df_cv.iterrows():\n",
    "    r.extract_keywords_from_text(row['Plot']) \n",
    "    \n",
    "    # to get dictionary with key words and their scores\n",
    "    key_words_dict_scores = r.get_word_degrees()    \n",
    "     # to assign list of key words to new column\n",
    "    row['Key_words'] = list(key_words_dict_scores.keys()) "
   ]
  },
  {
   "cell_type": "code",
   "execution_count": 20,
   "id": "c5e52710",
   "metadata": {},
   "outputs": [],
   "source": [
    "# Extract genre, first three main actors, and directors into a list\n",
    "df_cv['Genre'] = df_cv['Genre'].map(lambda x: x.split(','))\n",
    "df_cv['Actors'] = df_cv['Actors'].map(lambda x: x.split(',')[:3])\n",
    "df_cv['Director'] = df_cv['Director'].map(lambda x: x.split(','))\n",
    "\n",
    "# Merge first & last name into one word to create unique names\n",
    "for index, row in df_cv.iterrows():\n",
    "    row['Genre'] = [x.lower().replace(' ','') for x in row['Genre']]\n",
    "    row['Actors'] = [x.lower().replace(' ','') for x in row['Actors']]\n",
    "    row['Director'] = [x.lower().replace(' ','') for x in row['Director']]"
   ]
  },
  {
   "cell_type": "markdown",
   "id": "c575066f",
   "metadata": {},
   "source": [
    "### Generate word representation"
   ]
  },
  {
   "cell_type": "code",
   "execution_count": 21,
   "id": "1ed2b5e2",
   "metadata": {},
   "outputs": [
    {
     "data": {
      "text/html": [
       "<div>\n",
       "<style scoped>\n",
       "    .dataframe tbody tr th:only-of-type {\n",
       "        vertical-align: middle;\n",
       "    }\n",
       "\n",
       "    .dataframe tbody tr th {\n",
       "        vertical-align: top;\n",
       "    }\n",
       "\n",
       "    .dataframe thead th {\n",
       "        text-align: right;\n",
       "    }\n",
       "</style>\n",
       "<table border=\"1\" class=\"dataframe\">\n",
       "  <thead>\n",
       "    <tr style=\"text-align: right;\">\n",
       "      <th></th>\n",
       "      <th>Title</th>\n",
       "      <th>all_words_EN</th>\n",
       "    </tr>\n",
       "  </thead>\n",
       "  <tbody>\n",
       "    <tr>\n",
       "      <th>0</th>\n",
       "      <td>The Shawshank Redemption</td>\n",
       "      <td>crime drama frankdarabont timrobbins morganfre...</td>\n",
       "    </tr>\n",
       "    <tr>\n",
       "      <th>1</th>\n",
       "      <td>The Godfather</td>\n",
       "      <td>crime drama francisfordcoppola marlonbrando al...</td>\n",
       "    </tr>\n",
       "  </tbody>\n",
       "</table>\n",
       "</div>"
      ],
      "text/plain": [
       "                      Title                                       all_words_EN\n",
       "0  The Shawshank Redemption  crime drama frankdarabont timrobbins morganfre...\n",
       "1             The Godfather  crime drama francisfordcoppola marlonbrando al..."
      ]
     },
     "execution_count": 21,
     "metadata": {},
     "output_type": "execute_result"
    }
   ],
   "source": [
    "# Combine 'Genre', 'Director', 'Actors', 'Key_words' into a column\n",
    "df_cv['all_words_EN'] = ''\n",
    "columns = ['Genre', 'Director', 'Actors', 'Key_words']\n",
    "\n",
    "for index, row in df_cv.iterrows():\n",
    "    words = ''\n",
    "    for col in columns:\n",
    "        words += ' '.join(row[col]) + ' '\n",
    "    row['all_words_EN'] = words\n",
    "    \n",
    "\n",
    "df_cv['all_words_EN'] = df_cv['all_words_EN'].str.strip().str.replace('   ', ' ').str.replace('  ', ' ')\n",
    "\n",
    "df_en = df_cv[['Title','all_words_EN']]\n",
    "df_en.head(2)"
   ]
  },
  {
   "cell_type": "markdown",
   "id": "12ee4918",
   "metadata": {},
   "source": [
    "### Create vector representation"
   ]
  },
  {
   "cell_type": "code",
   "execution_count": 22,
   "id": "3357eeed",
   "metadata": {},
   "outputs": [
    {
     "data": {
      "text/plain": [
       "<185x2384 sparse matrix of type '<class 'numpy.int64'>'\n",
       "\twith 3897 stored elements in Compressed Sparse Row format>"
      ]
     },
     "execution_count": 22,
     "metadata": {},
     "output_type": "execute_result"
    }
   ],
   "source": [
    "# Generate the count matrix\n",
    "vectorizer_EN = CountVectorizer()\n",
    "matrix_EN = vectorizer_EN.fit_transform(df_en['all_words_EN'])\n",
    "matrix_EN"
   ]
  },
  {
   "cell_type": "code",
   "execution_count": 24,
   "id": "b000c9c1",
   "metadata": {},
   "outputs": [
    {
     "name": "stdout",
     "output_type": "stream",
     "text": [
      "[[1.         0.15789474 0.13764944 ... 0.10814761 0.         0.05735393]\n",
      " [0.15789474 1.         0.36706517 ... 0.16222142 0.         0.05735393]\n",
      " [0.13764944 0.36706517 1.         ... 0.14142136 0.         0.05      ]\n",
      " ...\n",
      " [0.10814761 0.16222142 0.14142136 ... 1.         0.         0.05892557]\n",
      " [0.         0.         0.         ... 0.         1.         0.0521286 ]\n",
      " [0.05735393 0.05735393 0.05       ... 0.05892557 0.0521286  1.        ]]\n"
     ]
    }
   ],
   "source": [
    "# cosine similarity: similarity = cos(angle) = range from 0 (different) to 1 (similar)\n",
    "cosine_sim_EN = cosine_similarity(matrix_EN, matrix_EN)\n",
    "print(cosine_sim_EN)"
   ]
  },
  {
   "cell_type": "markdown",
   "id": "f64a2a1b",
   "metadata": {},
   "source": [
    "### Implement recommendation model"
   ]
  },
  {
   "cell_type": "code",
   "execution_count": 26,
   "id": "729dd2da",
   "metadata": {},
   "outputs": [],
   "source": [
    "# this function takes in a movie title as input and returns the top 10 recommended (similar) movies\n",
    "\n",
    "def recommend_EN(title, cosine_sim = cosine_sim_EN):\n",
    "    recommended_movies = []\n",
    "    idx = indices[indices == title].index[0]   # to get the index of the movie title matching the input movie\n",
    "    score_series = pd.Series(cosine_sim_EN[idx]).sort_values(ascending = False)   # similarity scores in descending order\n",
    "    top_10_indices = list(score_series.iloc[1:11].index)   # to get the indices of top 10 most similar movies\n",
    "    # [1:11] to exclude 0 (index 0 is the input movie itself)\n",
    "    \n",
    "    for i in top_10_indices:   # to append the titles of top 10 similar movies to the recommended_movies list\n",
    "        recommended_movies.append(list(df['Title'])[i])\n",
    "        \n",
    "    return recommended_movies"
   ]
  },
  {
   "cell_type": "markdown",
   "id": "21483886",
   "metadata": {},
   "source": [
    "## Compare recommended results"
   ]
  },
  {
   "cell_type": "code",
   "execution_count": 32,
   "id": "a9ec676b",
   "metadata": {},
   "outputs": [
    {
     "name": "stdout",
     "output_type": "stream",
     "text": [
      "['The Dark Knight Rises', 'Batman Begins', 'The Green Mile', 'Rashomon', 'Witness for the Prosecution', 'Rush', 'The Prestige', 'The Godfather', 'V for Vendetta', 'The 400 Blows'] \n",
      " \n",
      " ['Batman Begins', 'The Dark Knight Rises', 'The Green Mile', 'Dangal', 'The Prestige', 'The 400 Blows', 'Rashomon', 'The Shawshank Redemption', 'Baby Driver', 'La Haine']\n"
     ]
    }
   ],
   "source": [
    "print(recommend_JP('The Dark Knight'), '\\n', '\\n', recommend_EN('The Dark Knight'))"
   ]
  },
  {
   "cell_type": "code",
   "execution_count": 33,
   "id": "b5d5e4cf",
   "metadata": {},
   "outputs": [
    {
     "name": "stdout",
     "output_type": "stream",
     "text": [
      "['To Kill a Mockingbird', 'Cool Hand Luke', 'Witness for the Prosecution', 'Rashomon', 'The Dark Knight', 'La Haine', 'Dog Day Afternoon', 'The Shawshank Redemption', 'The Godfather', 'Touch of Evil'] \n",
      " \n",
      " ['The Shawshank Redemption', 'La Haine', 'Harry Potter and the Deathly Hallows: Part 2', 'The 400 Blows', \"Pan's Labyrinth\", 'The Dark Knight', 'The Silence of the Lambs', 'Spotlight', 'Touch of Evil', 'Shutter Island']\n"
     ]
    }
   ],
   "source": [
    "print(recommend_JP('The Green Mile'), '\\n', '\\n', recommend_EN('The Green Mile'))"
   ]
  },
  {
   "cell_type": "code",
   "execution_count": 35,
   "id": "c3d049bf",
   "metadata": {},
   "outputs": [
    {
     "name": "stdout",
     "output_type": "stream",
     "text": [
      "['The Dark Knight Rises', 'The Dark Knight', 'Star Wars: Episode V - The Empire Strikes Back', 'The Prestige', 'Inception', 'Raiders of the Lost Ark', 'Interstellar', 'Yojimbo', 'Gladiator', 'The General'] \n",
      " \n",
      " ['The Dark Knight', 'The Dark Knight Rises', 'The Prestige', 'Yojimbo', 'Baby Driver', 'Reservoir Dogs', 'The Usual Suspects', 'The Wolf of Wall Street', 'Heat', 'Touch of Evil']\n"
     ]
    }
   ],
   "source": [
    "print(recommend_JP('Batman Begins'), '\\n', '\\n', recommend_EN('Batman Begins'))"
   ]
  },
  {
   "cell_type": "code",
   "execution_count": null,
   "id": "567a53a5",
   "metadata": {},
   "outputs": [],
   "source": []
  }
 ],
 "metadata": {
  "kernelspec": {
   "display_name": "Python 3",
   "language": "python",
   "name": "python3"
  },
  "language_info": {
   "codemirror_mode": {
    "name": "ipython",
    "version": 3
   },
   "file_extension": ".py",
   "mimetype": "text/x-python",
   "name": "python",
   "nbconvert_exporter": "python",
   "pygments_lexer": "ipython3",
   "version": "3.6.8"
  }
 },
 "nbformat": 4,
 "nbformat_minor": 5
}
